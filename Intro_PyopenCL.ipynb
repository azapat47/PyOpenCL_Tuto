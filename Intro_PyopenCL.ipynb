{
 "cells": [
  {
   "cell_type": "markdown",
   "metadata": {},
   "source": [
    "## Introduction PyOpenCL  \n",
    "\n",
    "![assets/opencl_logo.png](assets/opencl_logo.png \"assets/opencl logo\")"
   ]
  },
  {
   "cell_type": "code",
   "execution_count": 1,
   "metadata": {
    "collapsed": false
   },
   "outputs": [],
   "source": [
    "\n",
    "#BOUSLAHI YACINE\n",
    "#ABED NASSIM\n",
    "#21/05/2017\n",
    "#UNIVERSITE DE BREST \n"
   ]
  },
  {
   "cell_type": "code",
   "execution_count": 2,
   "metadata": {
    "collapsed": false
   },
   "outputs": [],
   "source": [
    "#Importation de la librairie PyOpenCL \n",
    "import pyopencl as cl"
   ]
  },
  {
   "cell_type": "markdown",
   "metadata": {},
   "source": [
    "#### "
   ]
  },
  {
   "cell_type": "code",
   "execution_count": 3,
   "metadata": {
    "collapsed": false
   },
   "outputs": [],
   "source": [
    "#Recuperation des plateformes OpenCL sur la machine\n",
    "platforms = cl.get_platforms()"
   ]
  },
  {
   "cell_type": "markdown",
   "metadata": {},
   "source": [
    "###### le type de platforme ? "
   ]
  },
  {
   "cell_type": "code",
   "execution_count": 4,
   "metadata": {
    "collapsed": false
   },
   "outputs": [
    {
     "data": {
      "text/plain": [
       "list"
      ]
     },
     "execution_count": 4,
     "metadata": {},
     "output_type": "execute_result"
    }
   ],
   "source": [
    "type(platforms)"
   ]
  },
  {
   "cell_type": "markdown",
   "metadata": {},
   "source": [
    "#### la taille de cette liste ?"
   ]
  },
  {
   "cell_type": "code",
   "execution_count": 5,
   "metadata": {
    "collapsed": false
   },
   "outputs": [
    {
     "data": {
      "text/plain": [
       "1"
      ]
     },
     "execution_count": 5,
     "metadata": {},
     "output_type": "execute_result"
    }
   ],
   "source": [
    "len(platforms)"
   ]
  },
  {
   "cell_type": "code",
   "execution_count": 6,
   "metadata": {
    "collapsed": false
   },
   "outputs": [
    {
     "data": {
      "text/plain": [
       "'Portable Computing Language'"
      ]
     },
     "execution_count": 6,
     "metadata": {},
     "output_type": "execute_result"
    }
   ],
   "source": [
    "# platforms[0].name ->  le nom de la plate-forme\n",
    "platforms[0].name"
   ]
  },
  {
   "cell_type": "code",
   "execution_count": 7,
   "metadata": {
    "collapsed": false
   },
   "outputs": [
    {
     "data": {
      "text/plain": [
       "'FULL_PROFILE'"
      ]
     },
     "execution_count": 7,
     "metadata": {},
     "output_type": "execute_result"
    }
   ],
   "source": [
    "# platforms[0].profile ->\n",
    "# Une chaîne avec deux valeurs possibles: \n",
    "#  ' FULL_PROFILE'lorsque la plate-forme prend en charge la norme complète OpenCL \n",
    "#   ou\n",
    "#   ' EMBEDDED_PROFILE'lorsque la plate-forme prend juste en charge la norme OpenCL intégrée.\n",
    "platforms[0].profile"
   ]
  },
  {
   "cell_type": "code",
   "execution_count": 8,
   "metadata": {
    "collapsed": false
   },
   "outputs": [
    {
     "data": {
      "text/plain": [
       "'The pocl project'"
      ]
     },
     "execution_count": 8,
     "metadata": {},
     "output_type": "execute_result"
    }
   ],
   "source": [
    "#platforms[0].vendor ->\n",
    "#Une chaîne avec le nom du vendeur de la plate-forme.\n",
    "platforms[0].vendor"
   ]
  },
  {
   "cell_type": "code",
   "execution_count": 9,
   "metadata": {
    "collapsed": false
   },
   "outputs": [
    {
     "data": {
      "text/plain": [
       "'OpenCL 2.0 pocl 0.13, LLVM 3.8.0'"
      ]
     },
     "execution_count": 9,
     "metadata": {},
     "output_type": "execute_result"
    }
   ],
   "source": [
    "#platforms[0].version ->\n",
    "#la version maximale de l'API OpenCL prise en charge par la plate-forme.\n",
    "platforms[0].version"
   ]
  },
  {
   "cell_type": "code",
   "execution_count": 10,
   "metadata": {
    "collapsed": false
   },
   "outputs": [
    {
     "data": {
      "text/plain": [
       "'cl_khr_icd'"
      ]
     },
     "execution_count": 10,
     "metadata": {},
     "output_type": "execute_result"
    }
   ],
   "source": [
    "#platforms[0].extensions\n",
    "#la liste des extensions prise en chargepar la plateforme\n",
    "platforms[0].extensions"
   ]
  },
  {
   "cell_type": "markdown",
   "metadata": {},
   "source": [
    "#### Récuperations des pérepheriques disponibles"
   ]
  },
  {
   "cell_type": "code",
   "execution_count": 11,
   "metadata": {
    "collapsed": false
   },
   "outputs": [
    {
     "data": {
      "text/plain": [
       "[<pyopencl.Device 'pthread-Intel(R) Xeon(R) CPU E3-1240 v5 @ 3.50GHz' on 'Portable Computing Language' at 0x9858e78>]"
      ]
     },
     "execution_count": 11,
     "metadata": {},
     "output_type": "execute_result"
    }
   ],
   "source": [
    "devices = platforms[0].get_devices(cl.device_type.ALL)\n",
    "devices"
   ]
  },
  {
   "cell_type": "markdown",
   "metadata": {},
   "source": [
    "#### OU"
   ]
  },
  {
   "cell_type": "code",
   "execution_count": 12,
   "metadata": {
    "collapsed": false
   },
   "outputs": [
    {
     "data": {
      "text/plain": [
       "[<pyopencl.Device 'pthread-Intel(R) Xeon(R) CPU E3-1240 v5 @ 3.50GHz' on 'Portable Computing Language' at 0x9858e78>]"
      ]
     },
     "execution_count": 12,
     "metadata": {},
     "output_type": "execute_result"
    }
   ],
   "source": [
    "devices = platforms[0].get_devices()\n",
    "devices "
   ]
  },
  {
   "cell_type": "markdown",
   "metadata": {},
   "source": [
    "#### récupérer les périphériques GPU disponibles"
   ]
  },
  {
   "cell_type": "code",
   "execution_count": 13,
   "metadata": {
    "collapsed": false
   },
   "outputs": [
    {
     "data": {
      "text/plain": [
       "[]"
      ]
     },
     "execution_count": 13,
     "metadata": {},
     "output_type": "execute_result"
    }
   ],
   "source": [
    "gpu_devices = platforms[0].get_devices(cl.device_type.GPU)\n",
    "gpu_devices"
   ]
  },
  {
   "cell_type": "markdown",
   "metadata": {},
   "source": [
    "#### récupérer les périphériques CPU disponibles"
   ]
  },
  {
   "cell_type": "code",
   "execution_count": 14,
   "metadata": {
    "collapsed": false
   },
   "outputs": [
    {
     "data": {
      "text/plain": [
       "1"
      ]
     },
     "execution_count": 14,
     "metadata": {},
     "output_type": "execute_result"
    }
   ],
   "source": [
    "cpu_devices = platforms[0].get_devices(cl.device_type.CPU)\n",
    "len(cpu_devices)"
   ]
  },
  {
   "cell_type": "code",
   "execution_count": 15,
   "metadata": {
    "collapsed": false
   },
   "outputs": [
    {
     "data": {
      "text/plain": [
       "<pyopencl.Device 'pthread-Intel(R) Xeon(R) CPU E3-1240 v5 @ 3.50GHz' on 'Portable Computing Language' at 0x9858e78>"
      ]
     },
     "execution_count": 15,
     "metadata": {},
     "output_type": "execute_result"
    }
   ],
   "source": [
    "cpu_devices[0]"
   ]
  },
  {
   "cell_type": "markdown",
   "metadata": {},
   "source": [
    "#### Obtention de différents paramètres d'information d'un périphérique"
   ]
  },
  {
   "cell_type": "code",
   "execution_count": 17,
   "metadata": {
    "collapsed": false
   },
   "outputs": [
    {
     "name": "stdout",
     "output_type": "stream",
     "text": [
      "32\n"
     ]
    }
   ],
   "source": [
    "# address_bits -> la taille de l'espace d'adressage du périphérique.\n",
    "print(cpu_devices[0].address_bits)\n",
    "#print(gpu_devices[0].address_bits)\n",
    "\n",
    "\n"
   ]
  },
  {
   "cell_type": "code",
   "execution_count": 18,
   "metadata": {
    "collapsed": false
   },
   "outputs": [
    {
     "name": "stdout",
     "output_type": "stream",
     "text": [
      "cl_khr_byte_addressable_store cl_khr_global_int32_base_atomics cl_khr_global_int32_extended_atomics cl_khr_local_int32_base_atomics cl_khr_local_int32_extended_atomics cl_khr_spir cl_khr_int64 cl_khr_fp64 cl_khr_int64_base_atomics cl_khr_int64_extended_atomics\n"
     ]
    }
   ],
   "source": [
    "\n",
    "# extensions ->  la liste des extensions prises en charge par le périphérique.\n",
    "print(cpu_devices[0].extensions)\n",
    "#print(gpu_devices[0].address_bits)"
   ]
  },
  {
   "cell_type": "code",
   "execution_count": 19,
   "metadata": {
    "collapsed": false
   },
   "outputs": [
    {
     "name": "stdout",
     "output_type": "stream",
     "text": [
      "1589065728\n"
     ]
    }
   ],
   "source": [
    "\n",
    "# global_mem_size -> la taille de la memeoire gloabal de l'appareil\n",
    "print(cpu_devices[0].global_mem_size)\n",
    "#print(gpu_devices[0].address_bits)"
   ]
  },
  {
   "cell_type": "code",
   "execution_count": 20,
   "metadata": {
    "collapsed": false
   },
   "outputs": [
    {
     "name": "stdout",
     "output_type": "stream",
     "text": [
      "4096\n"
     ]
    }
   ],
   "source": [
    "\n",
    "\n",
    "# max_work_group_size -> la taille maximale d'un groupe de travail d'un perepherique\n",
    "print(cpu_devices[0].max_work_group_size)\n",
    "#print(gpu_devices[0].address_bits)"
   ]
  },
  {
   "cell_type": "code",
   "execution_count": 21,
   "metadata": {
    "collapsed": false
   },
   "outputs": [
    {
     "name": "stdout",
     "output_type": "stream",
     "text": [
      "pthread-Intel(R) Xeon(R) CPU E3-1240 v5 @ 3.50GHz\n"
     ]
    }
   ],
   "source": [
    "\n",
    "\n",
    "# name -> nom de l'appareil\n",
    "print(cpu_devices[0].name)\n",
    "#print(gpu_devices[0].address_bits)"
   ]
  },
  {
   "cell_type": "code",
   "execution_count": 22,
   "metadata": {
    "collapsed": false
   },
   "outputs": [
    {
     "name": "stdout",
     "output_type": "stream",
     "text": [
      "GenuineIntel\n"
     ]
    }
   ],
   "source": [
    "\n",
    "\n",
    "# vendor -> le nom du fournisseur de l'appareil\n",
    "print(cpu_devices[0].vendor)\n",
    "#print(gpu_devices[0].address_bits)"
   ]
  },
  {
   "cell_type": "code",
   "execution_count": null,
   "metadata": {
    "collapsed": true
   },
   "outputs": [],
   "source": []
  },
  {
   "cell_type": "code",
   "execution_count": null,
   "metadata": {
    "collapsed": false
   },
   "outputs": [],
   "source": []
  },
  {
   "cell_type": "code",
   "execution_count": null,
   "metadata": {
    "collapsed": true
   },
   "outputs": [],
   "source": []
  }
 ],
 "metadata": {
  "kernelspec": {
   "display_name": "Python 3",
   "language": "python",
   "name": "python3"
  },
  "language_info": {
   "codemirror_mode": {
    "name": "ipython",
    "version": 3
   },
   "file_extension": ".py",
   "mimetype": "text/x-python",
   "name": "python",
   "nbconvert_exporter": "python",
   "pygments_lexer": "ipython3",
   "version": "3.5.1+"
  }
 },
 "nbformat": 4,
 "nbformat_minor": 0
}
