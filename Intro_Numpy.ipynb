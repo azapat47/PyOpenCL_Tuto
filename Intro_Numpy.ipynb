{
 "cells": [
  {
   "cell_type": "code",
   "execution_count": 5,
   "metadata": {
    "collapsed": false
   },
   "outputs": [
    {
     "name": "stdout",
     "output_type": "stream",
     "text": [
      "<class 'numpy.ndarray'>\n",
      "(3,)\n",
      "4 2 0\n",
      "[5 2 0]\n",
      "(2, 3)\n",
      "1 2 4\n"
     ]
    }
   ],
   "source": [
    "import numpy as np\n",
    "\n",
    "tableau = np.array([4, 2, 0])               # Creation d'un tableau\n",
    "print(type(tableau))                         # Affichage du type\n",
    "print(tableau.shape)                        # Affichage de la taille (longueur et largeur)\n",
    "print(tableau[0], tableau[1], tableau[2])   # Acces aux valeurs \n",
    "tableau[0] = 5                              # Affectation d'une valeur\n",
    "print(tableau)                              # Affichage du tableau\n",
    "\n",
    "matrice = np.array([[1,2,3],[4,5,6]])                # Creation d'une matrice 2x3\n",
    "print(matrice.shape)                                 # Affichage de la taille (longueur et largeur)\n",
    "print(matrice[0, 0], matrice[0, 1], matrice[1, 0])   # Affichage des valeurs\n",
    "\n"
   ]
  },
  {
   "cell_type": "code",
   "execution_count": 7,
   "metadata": {
    "collapsed": false
   },
   "outputs": [
    {
     "name": "stdout",
     "output_type": "stream",
     "text": [
      "[[ 0.  0.]\n",
      " [ 0.  0.]]\n",
      "[[ 1.  1.]]\n",
      "[[ 7.  7.]\n",
      " [ 7.  7.]]\n",
      "[[ 1.  0.]\n",
      " [ 0.  1.]]\n",
      "[[ 0.56526582  0.90538346]\n",
      " [ 0.19830948  0.12357486]]\n"
     ]
    },
    {
     "name": "stderr",
     "output_type": "stream",
     "text": [
      "/usr/lib/python3/dist-packages/numpy/core/numeric.py:301: FutureWarning: in the future, full((2, 2), 7) will return an array of dtype('int32')\n",
      "  format(shape, fill_value, array(fill_value).dtype), FutureWarning)\n"
     ]
    }
   ],
   "source": [
    "import numpy as np\n",
    "\n",
    "a = np.zeros((2,2))  # Creation d'una matrice 2 x 2 de zeros\n",
    "print(a)             \n",
    "                     \n",
    "    \n",
    "b = np.ones((1,2))   # Creation d'une matrice 1x2 de 1 \n",
    "print(b)             \n",
    "\n",
    "c = np.full((2,2), 7) # Creation d'une matrice 2x2 de valeur constantes de 7 \n",
    "print(c)               \n",
    "                      \n",
    "\n",
    "d = np.eye(2)        # Creation d'une matrice 2x2 \n",
    "print (d)              \n",
    "                     \n",
    "    \n",
    "e = np.random.random((2,2)) # Creation d'une matrice 2x2 avec des valeurs aleatoires\n",
    "print(e)                     \n",
    " "
   ]
  },
  {
   "cell_type": "code",
   "execution_count": 9,
   "metadata": {
    "collapsed": false
   },
   "outputs": [
    {
     "name": "stdout",
     "output_type": "stream",
     "text": [
      "[[  6.   8.]\n",
      " [ 10.  12.]]\n",
      "[[  6.   8.]\n",
      " [ 10.  12.]]\n",
      "[[-4. -4.]\n",
      " [-4. -4.]]\n",
      "[[-4. -4.]\n",
      " [-4. -4.]]\n",
      "[[  5.  12.]\n",
      " [ 21.  32.]]\n",
      "[[  5.  12.]\n",
      " [ 21.  32.]]\n",
      "[[ 0.2         0.33333333]\n",
      " [ 0.42857143  0.5       ]]\n",
      "[[ 0.2         0.33333333]\n",
      " [ 0.42857143  0.5       ]]\n",
      "[[ 1.          1.41421356]\n",
      " [ 1.73205081  2.        ]]\n"
     ]
    }
   ],
   "source": [
    "import numpy as np\n",
    "\n",
    "x = np.array([[1,2],[3,4]], dtype=np.float64)\n",
    "y = np.array([[5,6],[7,8]], dtype=np.float64)\n",
    "\n",
    "\n",
    "\n",
    "\n",
    "print (x + y)\n",
    "print (np.add(x, y))\n",
    "\n",
    "\n",
    "\n",
    "print (x - y)\n",
    "print (np.subtract(x, y))\n",
    "\n",
    "\n",
    "\n",
    "print (x * y)\n",
    "print(np.multiply(x, y))\n",
    "\n",
    "\n",
    "print (x / y)\n",
    "print (np.divide(x, y))\n",
    "\n",
    "\n",
    "print (np.sqrt(x))\n",
    "\n"
   ]
  },
  {
   "cell_type": "code",
   "execution_count": 10,
   "metadata": {
    "collapsed": false
   },
   "outputs": [
    {
     "name": "stdout",
     "output_type": "stream",
     "text": [
      "219\n",
      "219\n",
      "[29 67]\n",
      "[29 67]\n",
      "[[19 22]\n",
      " [43 50]]\n",
      "[[19 22]\n",
      " [43 50]]\n"
     ]
    }
   ],
   "source": [
    "import numpy as np\n",
    "\n",
    "x = np.array([[1,2],[3,4]])\n",
    "y = np.array([[5,6],[7,8]])\n",
    "\n",
    "v = np.array([9,10])\n",
    "w = np.array([11, 12])\n",
    "\n",
    "\n",
    "print(v.dot(w))\n",
    "print(np.dot(v, w))\n",
    "\n",
    "\n",
    "print(x.dot(v))\n",
    "print(np.dot(x, v))\n",
    "\n",
    "\n",
    "\n",
    "print(x.dot(y))\n",
    "print(np.dot(x, y))\n",
    "\n"
   ]
  },
  {
   "cell_type": "code",
   "execution_count": 11,
   "metadata": {
    "collapsed": false
   },
   "outputs": [
    {
     "name": "stdout",
     "output_type": "stream",
     "text": [
      "10\n",
      "[4 6]\n",
      "[3 7]\n"
     ]
    }
   ],
   "source": [
    "import numpy as np\n",
    "\n",
    "x = np.array([[1,2],[3,4]])\n",
    "\n",
    "print (np.sum(x))\n",
    "print (np.sum(x, axis=0))\n",
    "print (np.sum(x, axis=1))\n",
    "\n"
   ]
  },
  {
   "cell_type": "code",
   "execution_count": null,
   "metadata": {
    "collapsed": true
   },
   "outputs": [],
   "source": []
  }
 ],
 "metadata": {
  "kernelspec": {
   "display_name": "Python 3",
   "language": "python",
   "name": "python3"
  },
  "language_info": {
   "codemirror_mode": {
    "name": "ipython",
    "version": 3
   },
   "file_extension": ".py",
   "mimetype": "text/x-python",
   "name": "python",
   "nbconvert_exporter": "python",
   "pygments_lexer": "ipython3",
   "version": "3.5.1+"
  }
 },
 "nbformat": 4,
 "nbformat_minor": 0
}
