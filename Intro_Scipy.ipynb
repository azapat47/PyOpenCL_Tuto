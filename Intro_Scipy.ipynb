{
 "cells": [
  {
   "cell_type": "code",
   "execution_count": 16,
   "metadata": {
    "collapsed": false
   },
   "outputs": [
    {
     "name": "stdout",
     "output_type": "stream",
     "text": [
      "uint8\n",
      "(768, 1024, 3)\n"
     ]
    }
   ],
   "source": [
    "#https://docs.scipy.org/doc/scipy/reference/misc.html#module-scipy.misc\n",
    "\n",
    "from scipy import misc\n",
    "\n",
    "img = misc.imread('assets/Tulips.jpg')\n",
    "print(img.dtype)\n",
    "print(img.shape)  \n",
    "\n",
    "misc.imshow(img)\n",
    "\n",
    "\n",
    "img_tinted = img * [1, 0.50, 0.50]\n",
    "\n",
    "\n",
    "img_tinted = misc.imresize(img_tinted, (300, 300))\n",
    "\n",
    "misc.imsave('assets/Tulips_tinted.jpg', img_tinted)\n",
    "misc.imshow(img_tinted)\n",
    "\n",
    "\n",
    "img_rotated = misc.imrotate(img_tinted, 90)\n",
    "\n",
    "misc.imsave('assets/Tulips_rotated.jpg', img_rotated)\n",
    "misc.imshow(img_rotated)"
   ]
  },
  {
   "cell_type": "code",
   "execution_count": 8,
   "metadata": {
    "collapsed": false
   },
   "outputs": [
    {
     "data": {
      "text/plain": [
       "array([[[146, 188, 228],\n",
       "        [146, 188, 228],\n",
       "        [146, 188, 228],\n",
       "        ..., \n",
       "        [106, 171, 229],\n",
       "        [106, 171, 229],\n",
       "        [106, 171, 229]],\n",
       "\n",
       "       [[146, 188, 228],\n",
       "        [146, 188, 228],\n",
       "        [146, 188, 228],\n",
       "        ..., \n",
       "        [106, 171, 229],\n",
       "        [106, 171, 229],\n",
       "        [106, 171, 229]],\n",
       "\n",
       "       [[146, 188, 228],\n",
       "        [146, 188, 228],\n",
       "        [146, 188, 228],\n",
       "        ..., \n",
       "        [106, 171, 229],\n",
       "        [106, 171, 229],\n",
       "        [106, 171, 229]],\n",
       "\n",
       "       ..., \n",
       "       [[ 11,  25,   0],\n",
       "        [ 13,  27,   0],\n",
       "        [ 20,  35,   0],\n",
       "        ..., \n",
       "        [ 42,  47,  17],\n",
       "        [ 15,  20,   0],\n",
       "        [ 12,  16,   0]],\n",
       "\n",
       "       [[  3,  16,   0],\n",
       "        [  6,  20,   0],\n",
       "        [ 15,  30,   0],\n",
       "        ..., \n",
       "        [ 41,  46,  14],\n",
       "        [ 14,  19,   0],\n",
       "        [ 11,  16,   0]],\n",
       "\n",
       "       [[  0,  13,   0],\n",
       "        [  3,  16,   0],\n",
       "        [ 12,  26,   0],\n",
       "        ..., \n",
       "        [ 40,  45,  13],\n",
       "        [ 13,  18,   0],\n",
       "        [ 10,  15,   0]]], dtype=uint8)"
      ]
     },
     "execution_count": 8,
     "metadata": {},
     "output_type": "execute_result"
    }
   ],
   "source": [
    "img2"
   ]
  },
  {
   "cell_type": "markdown",
   "metadata": {},
   "source": [
    "**Image originale**\n",
    "![assets/Tulips.jpg image originale](assets/Tulips.jpg \"Image originale\")"
   ]
  },
  {
   "cell_type": "markdown",
   "metadata": {},
   "source": [
    "**Image redimensionné et teinté **\n",
    "![assets/Tulips_tinted.jpg redimensionné et teinté](assets/Tulips_tinted.jpg \"Image redimensionné et teinté \")"
   ]
  },
  {
   "cell_type": "markdown",
   "metadata": {
    "collapsed": true
   },
   "source": [
    "** image pivotee**\n",
    "![assets/Tulips_rotated.jpg pivoté](assets/Tulips_rotated.jpg \"Image pivoté \")"
   ]
  },
  {
   "cell_type": "code",
   "execution_count": null,
   "metadata": {
    "collapsed": true
   },
   "outputs": [],
   "source": []
  }
 ],
 "metadata": {
  "kernelspec": {
   "display_name": "Python 3",
   "language": "python",
   "name": "python3"
  },
  "language_info": {
   "codemirror_mode": {
    "name": "ipython",
    "version": 3
   },
   "file_extension": ".py",
   "mimetype": "text/x-python",
   "name": "python",
   "nbconvert_exporter": "python",
   "pygments_lexer": "ipython3",
   "version": "3.5.1+"
  }
 },
 "nbformat": 4,
 "nbformat_minor": 0
}
