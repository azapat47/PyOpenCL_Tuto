{
 "cells": [
  {
   "cell_type": "markdown",
   "metadata": {},
   "source": [
    "## Median Filter\n",
    "\n",
    "Le filtre médian est un filtre numérique ,  utilisé pour la réduction de bruit.  tout en conservant les contours de l'image.\n",
    "\n",
    "### Principe\n",
    "\n",
    "L'idée principale du filtre médian est de remplacer chaque entrée par la valeur médiane de son voisinage.\n",
    "\n",
    "Par exemple, si on considère ces neufs pixels, dont une valeur aberrante (ici 200) :\n",
    "![Expliaction median filtre](assets/median.jpg \"Ecplication\")\n",
    "\n",
    "\n",
    "\n",
    "\n",
    "le filtre médian va considérer les valeurs du voisinage par valeurs croissantes :\n",
    "5 47 71 80 94 105 121 150 200\n",
    "\n",
    "et prendre la valeur médiane, ici la valeur 94. La sortie du filtre donnera donc :\n",
    "\n",
    "| 5 |\t47  |\t71 |\n",
    "|-----------------|\n",
    "| 80 |\t**94** | \t105|\n",
    "| 121 |\t150   | \t200 |\n",
    "\n",
    "ce qui a permis de remplacer la valeur aberrante par une valeur « de consensus » entre les valeurs voisines.\n",
    "\n",
    "\n",
    "\n",
    "https://fr.wikipedia.org/wiki/Filtre_m%C3%A9dian\n",
    "\n"
   ]
  },
  {
   "cell_type": "code",
   "execution_count": 13,
   "metadata": {
    "collapsed": false
   },
   "outputs": [
    {
     "name": "stdout",
     "output_type": "stream",
     "text": [
      "GPU : none\n",
      "CPU : [<pyopencl.Device 'pthread-Intel(R) Xeon(R) CPU E3-1240 v5 @ 3.50GHz' on 'Portable Computing Language' at 0x94354e0>]\n"
     ]
    }
   ],
   "source": [
    "import pyopencl as cl\n",
    "import numpy as np\n",
    "from scipy.misc import imread, imsave\n",
    "from time import time\n",
    "#Read in image\n",
    "img = imread('assets/originale.png', flatten=True).astype(np.float32)\n",
    "\n",
    "# Get platforms, both CPU and GPU\n",
    "plat = cl.get_platforms()\n",
    "CPU = plat[0].get_devices()\n",
    "try:\n",
    "    GPU = plat[1].get_devices()\n",
    "except IndexError:\n",
    "    GPU = \"none\"\n",
    "\n",
    "#Create context for GPU/CPU\n",
    "if GPU!= \"none\":\n",
    "    ctx = cl.Context(GPU)\n",
    "else:\n",
    "    ctx = cl.Context(CPU)\n",
    "\n",
    "print(\"GPU : \"+str(GPU))\n",
    "print(\"CPU : \"+str(CPU))\n"
   ]
  },
  {
   "cell_type": "code",
   "execution_count": 14,
   "metadata": {
    "collapsed": false
   },
   "outputs": [
    {
     "name": "stdout",
     "output_type": "stream",
     "text": [
      "Temps de traitement : 0.011135339736938477\n"
     ]
    }
   ],
   "source": [
    "\n",
    "# Create queue for each kernel execution\n",
    "queue = cl.CommandQueue(ctx)\n",
    "\n",
    "mf = cl.mem_flags\n",
    "\n",
    "# Kernel function\n",
    "src = '''\n",
    "void sort(int *a, int *b, int *c) {\n",
    "   int swap;\n",
    "   if(*a > *b) {\n",
    "      swap = *a;\n",
    "      *a = *b;\n",
    "      *b = swap;\n",
    "   }\n",
    "   if(*a > *c) {\n",
    "      swap = *a;\n",
    "      *a = *c;\n",
    "      *c = swap;\n",
    "   }\n",
    "   if(*b > *c) {\n",
    "      swap = *b;\n",
    "      *b = *c;\n",
    "      *c = swap;\n",
    "   }\n",
    "}\n",
    "__kernel void medianFilter(__global float *img, __global float *result, __global int *width, __global int *height)\n",
    "{\n",
    "    int w = *width;\n",
    "    int h = *height;\n",
    "    int posx = get_global_id(1);\n",
    "    int posy = get_global_id(0);\n",
    "    int i = w*posy + posx;\n",
    "    // Keeping the edge pixels the same\n",
    "    if( posx == 0 || posy == 0 || posx == w-1 || posy == h-1 )\n",
    "    {\n",
    "        result[i] = img[i];\n",
    "    }\n",
    "    else\n",
    "    {\n",
    "        int pixel00, pixel01, pixel02, pixel10, pixel11, pixel12, pixel20, pixel21, pixel22;\n",
    "        pixel00 = img[i - 1 - w];\n",
    "        pixel01 = img[i- w];\n",
    "        pixel02 = img[i + 1 - w];\n",
    "        pixel10 = img[i - 1];\n",
    "        pixel11 = img[i];\n",
    "        pixel12 = img[i + 1];\n",
    "        pixel20 = img[i - 1 + w];\n",
    "        pixel21 = img[i + w];\n",
    "        pixel22 = img[i + 1 + w];\n",
    "        //sort the rows\n",
    "        sort( &(pixel00), &(pixel01), &(pixel02) );\n",
    "        sort( &(pixel10), &(pixel11), &(pixel12) );\n",
    "        sort( &(pixel20), &(pixel21), &(pixel22) );\n",
    "        //sort the columns\n",
    "        sort( &(pixel00), &(pixel10), &(pixel20) );\n",
    "        sort( &(pixel01), &(pixel11), &(pixel21) );\n",
    "        sort( &(pixel02), &(pixel12), &(pixel22) );\n",
    "        //sort the diagonal\n",
    "        sort( &(pixel00), &(pixel11), &(pixel22) );\n",
    "        // median is the the middle value of the diagonal\n",
    "        resu lt[i] = pixel11;\n",
    "    }\n",
    "}\n",
    "'''\n",
    "\n",
    "start = time()\n",
    "#Kernel function instantiation\n",
    "prg = cl.Program(ctx, src).build()\n",
    "#Allocate memory for variables on the device\n",
    "img_g =  cl.Buffer(ctx, mf.READ_ONLY | mf.COPY_HOST_PTR, hostbuf=img)\n",
    "result_g = cl.Buffer(ctx, mf.WRITE_ONLY, img.nbytes)\n",
    "width_g = cl.Buffer(ctx, mf.READ_ONLY | mf.COPY_HOST_PTR, hostbuf=np.int32(img.shape[1]))\n",
    "height_g = cl.Buffer(ctx, mf.READ_ONLY | mf.COPY_HOST_PTR, hostbuf=np.int32(img.shape[0]))\n",
    "# Call Kernel. Automatically takes care of block/grid distribution\n",
    "prg.medianFilter(queue, img.shape, None , img_g, result_g, width_g, height_g)\n",
    "result = np.empty_like(img)\n",
    "cl.enqueue_copy(queue, result, result_g)\n",
    "\n",
    "# Show the blurred image\n",
    "imsave('assets/originale_medianFilter.jpg',result)\n",
    "end = time()\n",
    "print(\"Temps de traitement : \"+str(end-start))"
   ]
  },
  {
   "cell_type": "markdown",
   "metadata": {},
   "source": [
    "| Image originale       | Image Filtree-|\n",
    "|---------------------------------------|\n",
    "| ![Image originale](assets/originale.png \"Image originale\")|![Image filtree](assets/medianFilter.jpg \"Image filtree\")|\n"
   ]
  },
  {
   "cell_type": "code",
   "execution_count": null,
   "metadata": {
    "collapsed": true
   },
   "outputs": [],
   "source": []
  }
 ],
 "metadata": {
  "kernelspec": {
   "display_name": "Python 3",
   "language": "python",
   "name": "python3"
  },
  "language_info": {
   "codemirror_mode": {
    "name": "ipython",
    "version": 3
   },
   "file_extension": ".py",
   "mimetype": "text/x-python",
   "name": "python",
   "nbconvert_exporter": "python",
   "pygments_lexer": "ipython3",
   "version": "3.5.1+"
  }
 },
 "nbformat": 4,
 "nbformat_minor": 0
}
