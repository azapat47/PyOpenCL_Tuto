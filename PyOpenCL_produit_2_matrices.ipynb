{
 "cells": [
  {
   "cell_type": "markdown",
   "metadata": {},
   "source": [
    "## Matrice 4x4  multiplié par un vecteur\n",
    "http://www.drdobbs.com/open-source/easy-opencl-with-python/240162614?pgno=2\n",
    "\n",
    "\n",
    "![assets/produit_matrice.jpg](assets/produit_matrice.jpg \"assets/produit_matrice.gif\")"
   ]
  },
  {
   "cell_type": "markdown",
   "metadata": {},
   "source": [
    "#### produit de deux matrices"
   ]
  },
  {
   "cell_type": "code",
   "execution_count": 1,
   "metadata": {
    "collapsed": false
   },
   "outputs": [
    {
     "name": "stdout",
     "output_type": "stream",
     "text": [
      "[   85.  1360.   147.   285.]\n"
     ]
    }
   ],
   "source": [
    "import pyopencl as cl\n",
    "from pyopencl import array\n",
    "import numpy\n",
    " \n",
    "if __name__ == \"__main__\":\n",
    "    vector = numpy.zeros((1, 1), cl.array.vec.float4)\n",
    "    matrix = numpy.zeros((1, 4), cl.array.vec.float4)\n",
    "    matrix[0, 0] = (1, 2, 4, 8)\n",
    "    matrix[0, 1] = (16, 32, 64, 128)\n",
    "    matrix[0, 2] = (3, 6, 9, 12)\n",
    "    matrix[0, 3] = (5, 10, 15, 25)\n",
    "    vector[0, 0] = (1, 2, 4, 8)\n",
    "     \n",
    "    ## Step #1. Obtain an OpenCL platform.\n",
    "    platform = cl.get_platforms()[0]\n",
    "     \n",
    "    ## It would be necessary to add some code to check the check the support for\n",
    "    ## the necessary platform extensions with platform.extensions\n",
    "     \n",
    "    ## Step #2. Obtain a device id for at least one device (accelerator).\n",
    "    device = platform.get_devices()[0]\n",
    "     \n",
    "    ## It would be necessary to add some code to check the check the support for\n",
    "    ## the necessary device extensions with device.extensions\n",
    "     \n",
    "    ## Step #3. Create a context for the selected device.\n",
    "    context = cl.Context([device])\n",
    "     \n",
    "    ## Step #4. Create the accelerator program from source code.\n",
    "    ## Step #5. Build the program.\n",
    "    ## Step #6. Create one or more kernels from the program functions.\n",
    "    program = cl.Program(context, \"\"\"\n",
    "        __kernel void matrix_dot_vector(__global const float4 *matrix,\n",
    "        __global const float4 *vector, __global float *result)\n",
    "        {\n",
    "          int gid = get_global_id(0);\n",
    "          result[gid] = dot(matrix[gid], vector[0]);\n",
    "        }\n",
    "        \"\"\").build()\n",
    "     \n",
    "    ## Step #7. Create a command queue for the target device.\n",
    "    queue = cl.CommandQueue(context)\n",
    "     \n",
    "    ## Step #8. Allocate device memory and move input data from the host to the device memory.\n",
    "    mem_flags = cl.mem_flags\n",
    "    matrix_buf = cl.Buffer(context, mem_flags.READ_ONLY | mem_flags.COPY_HOST_PTR, hostbuf=matrix)\n",
    "    vector_buf = cl.Buffer(context, mem_flags.READ_ONLY | mem_flags.COPY_HOST_PTR, hostbuf=vector)\n",
    "    matrix_dot_vector = numpy.zeros(4, numpy.float32)\n",
    "    destination_buf = cl.Buffer(context, mem_flags.WRITE_ONLY, matrix_dot_vector.nbytes)\n",
    "     \n",
    "    ## Step #9. Associate the arguments to the kernel with kernel object.\n",
    "    ## Step #10. Deploy the kernel for device execution.\n",
    "    program.matrix_dot_vector(queue, matrix_dot_vector.shape, None, matrix_buf, vector_buf, destination_buf)\n",
    "     \n",
    "    ## Step #11. Move the kernel’s output data to host memory.\n",
    "    cl.enqueue_copy(queue, matrix_dot_vector, destination_buf)\n",
    "     \n",
    "    ## Step #12. Release context, program, kernels and memory.\n",
    "    ## PyOpenCL performs this step for you, and therefore,\n",
    "    ## you don't need to worry about cleanup code\n",
    "     \n",
    "    print(matrix_dot_vector)"
   ]
  },
  {
   "cell_type": "code",
   "execution_count": null,
   "metadata": {
    "collapsed": false
   },
   "outputs": [],
   "source": []
  }
 ],
 "metadata": {
  "kernelspec": {
   "display_name": "Python 3",
   "language": "python",
   "name": "python3"
  },
  "language_info": {
   "codemirror_mode": {
    "name": "ipython",
    "version": 3
   },
   "file_extension": ".py",
   "mimetype": "text/x-python",
   "name": "python",
   "nbconvert_exporter": "python",
   "pygments_lexer": "ipython3",
   "version": "3.5.1+"
  }
 },
 "nbformat": 4,
 "nbformat_minor": 0
}
